{
 "cells": [
  {
   "cell_type": "code",
   "execution_count": 258,
   "metadata": {
    "collapsed": false
   },
   "outputs": [],
   "source": [
    "from IPython.nbformat import current as nbf"
   ]
  },
  {
   "cell_type": "code",
   "execution_count": 259,
   "metadata": {
    "collapsed": false
   },
   "outputs": [],
   "source": [
    "fxns = '''\n",
    "import numpy\n",
    "import pandas as pd\n",
    "from collections import Counter\n",
    "from __future__ import division\n",
    "\n",
    "pd.set_option('display.max_colwidth', 1)\n",
    "# functions used throughout analysis\n",
    "\n",
    "def loadFilesGetColumns(fnName):\n",
    "    df = pd.read_csv(fnName, delimiter=',')\n",
    "    df_column_names = list(df.columns.values)\n",
    "    return df, df_column_names\n",
    "\n",
    "def findSingleCells (dataframe):\n",
    "    dataframe['singlecell'] = dataframe.isin([1]).any(1)\n",
    "    c = Counter(dataframe['singlecell'])\n",
    "    single = c[True]\n",
    "    kplus = c[False]\n",
    "    totalcells = single + kplus \n",
    "    percentsingle = (single/totalcells )* 100\n",
    "    return single, kplus, totalcells, percentsingle\n",
    "\n",
    "\n",
    "def getCrossTab(fieldList1, fieldList2, margin=False):\n",
    "    crossTab= pd.crosstab(fieldList1, fieldList2,  margins=margin)\n",
    "    return crossTab\n",
    "\n",
    "def getSingleCellInfo( datasetName, crossTab, fieldListString1, fieldListString2 ):\n",
    "    single, kplus, totalcells, percentsingle = findSingleCells(crossTab)\n",
    "    print \"***********************\"\n",
    "    print \"***********************\"\n",
    "    print \n",
    "    print  datasetName + \"- \"+ fieldListString1 + \" By \" + fieldListString2\n",
    "    print\n",
    "    print \"***********************\"\n",
    "    print \"Total of number of cells in \" + datasetName + \"- \" + fieldListString1 + \" By \" + fieldListString2 +\": \" + str(totalcells)\n",
    "    print \"Number of Single Cells in \" + datasetName + \"- \" + fieldListString1  + \" By \" + fieldListString2 +\": \" + str(single) \n",
    "    print \"Percentage of Single cells in \"  + datasetName+  \"- \" + fieldListString1 +\" By \" + fieldListString2 +\": \" + str( percentsingle) + \"%\"\n",
    "\n",
    "def getGrpBy(fieldListString1):\n",
    "    print \"******Overview of \" + fieldListString1 + \" ***********\"\n",
    "    print df.groupby(fieldListString1).size()\n",
    "\n",
    "\n",
    "def makeCrossTabHeaderInfo(datasetName, fnName):\n",
    "    df, df_column_names = loadFilesGetColumns(fnName)\n",
    "    print \"***********************\"\n",
    "    print \"***********************\"\n",
    "    print \"Columns in \"+ datasetName + \":\"\n",
    "    print \n",
    "    print df_column_names\n",
    "    print \n",
    "    return df\n",
    "    \n",
    "def makeCrossTabInfo(fieldList1, fieldListString1,  fieldList2, fieldListString2,  datasetName):\n",
    "    crosstTab = getCrossTab(fieldList1, fieldList2)\n",
    "    getSingleCellInfo( datasetName, crosstTab , fieldListString1, fieldListString2)\n",
    "    return crosstTab\n",
    "'''"
   ]
  },
  {
   "cell_type": "code",
   "execution_count": 260,
   "metadata": {
    "collapsed": true
   },
   "outputs": [],
   "source": [
    "def generateCells(crossTabTuple, fieldList1, fieldListString1):\n",
    "    for item in range(len(crossTabTuple)):\n",
    "        crossStuff = \"crossTab = makeCrossTabInfo( \" + fieldList1 + \",\" +  fieldListString1 + \",\" +  crossTabTuple[item][0] + \",\" +crossTabTuple[item][1] + \", datasetName)\" \n",
    "        cell = nbf.new_code_cell(crossStuff)\n",
    "        cells.append(cell)\n",
    "        cell = nbf.new_code_cell(\"crossTab\")\n",
    "        cells.append(cell)"
   ]
  },
  {
   "cell_type": "code",
   "execution_count": 261,
   "metadata": {
    "collapsed": true
   },
   "outputs": [],
   "source": [
    "def generateCrossTabsReport(datasetName, fn, crossTabTuple, fieldList1, fieldListString1):\n",
    "    stuff = '''\n",
    "datasetName = \"%s\"\n",
    "fnName = '%s'\n",
    "df = makeCrossTabHeaderInfo(datasetName, fnName)\n",
    "''' % (datasetName, fn )\n",
    "    cell = nbf.new_code_cell(stuff)\n",
    "    cells.append(cell)\n",
    "    grpBySt = nbf.new_code_cell( 'getGrpBy(%s)'% (fieldListString1))\n",
    "    cells.append(grpBySt)\n",
    "    generateCells(crossTabTuple, fieldList1, fieldListString1)    "
   ]
  },
  {
   "cell_type": "code",
   "execution_count": 262,
   "metadata": {
    "collapsed": true
   },
   "outputs": [],
   "source": [
    "nb = nbf.new_notebook()\n",
    "cells = []\n",
    "cell = nbf.new_code_cell(fxns )\n",
    "cells.append(cell)"
   ]
  },
  {
   "cell_type": "code",
   "execution_count": 263,
   "metadata": {
    "collapsed": true
   },
   "outputs": [],
   "source": [
    "datasetName = \"LIB 0003: Library Patron Data\"\n",
    "fn = \"LIB_0003_Lib_PatronData.csv\"\n",
    "text = \"# \" + datasetName\n",
    "cells.append(cell)\n"
   ]
  },
  {
   "cell_type": "code",
   "execution_count": 264,
   "metadata": {
    "collapsed": false
   },
   "outputs": [],
   "source": [
    "text =  \"## Birth Date Field Crosstabs\"\n",
    "cell = nbf.new_text_cell('markdown', text)\n",
    "cells.append(cell)\n",
    "\n",
    "item = \"df['Birth_Date']\"\n",
    "itemListString = \"'Birth_Date'\"\n",
    "crossTabItem = [\n",
    "                    ( \"df[\"+ \"'Home_Library_Definition']\", \"'Home Library Definition'\") ,  \n",
    "                    ( \"df[\"+ \"'Patron_Type_Definition']\", \"'Patron Type Definition'\") ,\n",
    "                    ( \"[df['Patron_Type_Definition'], df['Home_Library_Definition']]\", \"' Patron Type Definition + Home_Library_Definition'\") \n",
    "                    ]\n",
    "generateCrossTabsReport(datasetName, fn, crossTabItem, item, itemListString)"
   ]
  },
  {
   "cell_type": "code",
   "execution_count": 265,
   "metadata": {
    "collapsed": false
   },
   "outputs": [],
   "source": [
    "text =  \"## Patron Type Definition Field Crosstabs\"\n",
    "cell = nbf.new_text_cell('markdown', text)\n",
    "cells.append(cell)\n",
    "\n",
    "item = \"df['Patron_Type_Definition']\"\n",
    "itemListString = \"'Patron_Type_Definition'\"\n",
    "crossTabItem = [\n",
    "                    ( \"df[\"+ \"'Home_Library_Definition']\", \"'Home Library Definition'\") ,  \n",
    "                    ( \"df[\"+ \"'Birth_Date']\", \"'Birth_Date'\") \n",
    "                    ]\n",
    "generateCrossTabsReport(datasetName, fn, crossTabItem, item, itemListString)"
   ]
  },
  {
   "cell_type": "code",
   "execution_count": 266,
   "metadata": {
    "collapsed": false
   },
   "outputs": [],
   "source": [
    "text =  \"## Year Patron Registered Field Crosstabs\"\n",
    "cell = nbf.new_text_cell('markdown', text)\n",
    "cells.append(cell)\n",
    "\n",
    "item = \"df['Year_Patron_Registered']\"\n",
    "itemListString = \"'Year_Patron_Registered'\"\n",
    "crossTabItem = [    \n",
    "                    ( \"df[\"+ \"'Circulation_Active_Year']\", \"Circulation_Active_Year'\") ,\n",
    "                    ( \"df[\"+ \"'Birth_Date']\", \"'Birth_Date'\") ,\n",
    "                    ( \"df[\"+ \"'Home_Library_Definition']\", \"'Home Library Definition'\") ,  \n",
    "                    ( \"df[\"+ \"'Patron_Type_Definition']\", \"'Patron_Type_Definition'\") \n",
    "                    ]\n",
    "generateCrossTabsReport(datasetName, fn, crossTabItem, item, itemListString)"
   ]
  },
  {
   "cell_type": "code",
   "execution_count": 267,
   "metadata": {
    "collapsed": true
   },
   "outputs": [],
   "source": [
    "text =  \"## Circulation_Active_Year Field Crosstabs\"\n",
    "cell = nbf.new_text_cell('markdown', text)\n",
    "cells.append(cell)\n",
    "\n",
    "item = \"df['Circulation_Active_Year']\"\n",
    "itemListString = \"'Circulation_Active_Year'\"\n",
    "crossTabItem = [    \n",
    "                    ( \"df[\"+ \"'Circulation_Active_Month']\", \"'Circulation_Active_Month'\") ,\n",
    "                    ( \"[df[\"+ \"'Year_Patron_Registered'], df['Circulation_Active_Month' ]]\", \"'Year_Patron_Registered+Circulation_Active_Month'\")   \n",
    "                    ]\n",
    "generateCrossTabsReport(datasetName, fn, crossTabItem, item, itemListString)"
   ]
  },
  {
   "cell_type": "code",
   "execution_count": 268,
   "metadata": {
    "collapsed": false
   },
   "outputs": [],
   "source": [
    "text =  \"## Geography: Census Track\"\n",
    "cell = nbf.new_text_cell('markdown', text)\n",
    "cells.append(cell)\n",
    "\n",
    "item = \"df['Census_Tract']\"\n",
    "itemListString = \"'Census_Tract'\"\n",
    "crossTabItem = [\n",
    "                    ( \"df[\"+ \"'Birth_Date']\", \"'Birth_Date'\") ,  \n",
    "                    ( \"df[\"+ \"'Patron_Type_Definition']\", \"'Patron_Type_Definition'\") ,  \n",
    "                    ( \"df[\"+ \"'Analysis_Neighborhood']\", \"'Analysis_Neighborhood'\") ,\n",
    "                    ( \"[df[\"+ \"'Birth_Date'], df['Patron_Type_Definition' ]]\", \"'Birth_Date+ Patron_Type_Definition'\")   \n",
    "                    ]\n",
    "generateCrossTabsReport(datasetName, fn, crossTabItem, item, itemListString)"
   ]
  },
  {
   "cell_type": "code",
   "execution_count": 269,
   "metadata": {
    "collapsed": false
   },
   "outputs": [],
   "source": [
    "text =  \"## Geography: Analysis_Neighborhood\"\n",
    "cell = nbf.new_text_cell('markdown', text)\n",
    "cells.append(cell)\n",
    "\n",
    "item = \"df['Analysis_Neighborhood']\"\n",
    "itemListString = \"'Analysis_Neighborhood'\"\n",
    "crossTabItem = [\n",
    "                    ( \"df[\"+ \"'Birth_Date']\", \"'Birth_Date'\") ,  \n",
    "                    ( \"df[\"+ \"'Patron_Type_Definition']\", \"'Patron_Type_Definition'\") ,  \n",
    "                    ( \"df[\"+ \"'Home Library Definition']\", \"'Home Library Definition'\") ,\n",
    "                    ( \"[df[\"+ \"'Birth_Date'], df['Patron_Type_Definition' ]]\", \"'Birth_Date+ Patron_Type_Definition'\")   \n",
    "                    ]\n",
    "generateCrossTabsReport(datasetName, fn, crossTabItem, item, itemListString)"
   ]
  },
  {
   "cell_type": "code",
   "execution_count": 270,
   "metadata": {
    "collapsed": false
   },
   "outputs": [],
   "source": [
    "nb['worksheets'].append(nbf.new_worksheet(cells=cells))\n",
    "fname = 'testNew.ipynb'\n",
    "\n",
    "with open(fname, 'w') as f:\n",
    "    nbf.write(nb, f, 'ipynb')"
   ]
  },
  {
   "cell_type": "code",
   "execution_count": null,
   "metadata": {
    "collapsed": true
   },
   "outputs": [],
   "source": []
  },
  {
   "cell_type": "code",
   "execution_count": null,
   "metadata": {
    "collapsed": true
   },
   "outputs": [],
   "source": []
  },
  {
   "cell_type": "code",
   "execution_count": null,
   "metadata": {
    "collapsed": true
   },
   "outputs": [],
   "source": []
  }
 ],
 "metadata": {
  "kernelspec": {
   "display_name": "Python 2",
   "language": "python",
   "name": "python2"
  },
  "language_info": {
   "codemirror_mode": {
    "name": "ipython",
    "version": 2
   },
   "file_extension": ".py",
   "mimetype": "text/x-python",
   "name": "python",
   "nbconvert_exporter": "python",
   "pygments_lexer": "ipython2",
   "version": "2.7.11"
  }
 },
 "nbformat": 4,
 "nbformat_minor": 0
}
