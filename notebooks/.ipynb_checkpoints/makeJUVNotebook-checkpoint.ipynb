{
 "cells": [
  {
   "cell_type": "code",
   "execution_count": 10,
   "metadata": {
    "collapsed": false
   },
   "outputs": [],
   "source": [
    "from IPython.nbformat import current as nbf\n",
    "nb = nbf.new_notebook()\n",
    "cells = []"
   ]
  },
  {
   "cell_type": "code",
   "execution_count": 11,
   "metadata": {
    "collapsed": false
   },
   "outputs": [],
   "source": [
    "fxns = '''\n",
    "import numpy\n",
    "import pandas as pd\n",
    "from collections import Counter\n",
    "from __future__ import division\n",
    "\n",
    "pd.set_option('display.max_colwidth', 1)\n",
    "# functions used throughout analysis\n",
    "def getQuarter(month):\n",
    "    quarter = None\n",
    "    q =  float(month/3)\n",
    "    if q > 0 and q <= 1:\n",
    "        quarter = \"Q1\"\n",
    "    elif q > 1 and q <= 2:\n",
    "        quarter  = \"Q2\"\n",
    "    elif q > 2 and q <= 3:\n",
    "        quarter = \"Q3\"\n",
    "    elif q > 3 and q <= 4:\n",
    "        quarter = \"Q4\"\n",
    "    return quarter\n",
    "\n",
    "def loadFilesGetColumns(fnName, listofDateFields):\n",
    "    df = pd.read_csv(fnName, delimiter=',')\n",
    "    df_column_names = list(df.columns.values)\n",
    "    date_columns = []\n",
    "    for datefield in listofDateFields:\n",
    "        df[ datefield + \"Date\"] =  df[ datefield + \" Year\"].map(str) + \"-\" + df[datefield + \" Month\"].map(str)\n",
    "        df[datefield +'Qtr'] =  map((lambda x: getQuarter(x)), df[datefield +\" Month\"])\n",
    "        df[datefield +'Quarter'] = df[ datefield + \" Year\"].map(str)  + \"-\" +  df[datefield +'Qtr'] \n",
    "        date_columns.append(datefield + \" Month\")\n",
    "        date_columns.append(datefield + \" Year\")\n",
    "    df_column_names_nodt = [df_column_names.remove(x) for x in date_columns ]\n",
    "    return df, df_column_names\n",
    "\n",
    "def findSingleCells (dataframe):\n",
    "    dataframe['singlecell'] = dataframe.isin([1]).any(1)\n",
    "    c = Counter(dataframe['singlecell'])\n",
    "    single = c[True]\n",
    "    kplus = c[False]\n",
    "    totalcells = single + kplus \n",
    "    percentsingle = (single/totalcells )* 100\n",
    "    return single, kplus, totalcells, percentsingle\n",
    "\n",
    "\n",
    "def getCrossTab(datefield, fieldList, margin=False):\n",
    "    crossTab= pd.crosstab(datefield, fieldList,  margins=margin)\n",
    "    return crossTab\n",
    "\n",
    "def getSingleCellInfo( datasetName, dOrR, crossTab, timePeriod, FieldListString):\n",
    "    single, kplus, totalcells, percentsingle = findSingleCells(crossTab)\n",
    "    print \"***********************\"\n",
    "    print \"***********************\"\n",
    "    print \n",
    "    print  datasetName + \"- \"+ FieldListString + \" By \" + timePeriod\n",
    "    print\n",
    "    print \"***********************\"\n",
    "    print \"Total of number of cells in \" + datasetName + \"- \" + FieldListString + \" By \" + timePeriod +\": \" + str(totalcells)\n",
    "    print \"Number of Single Cells in \" + datasetName + \"- \" + FieldListString  + \" By \" + timePeriod +\": \" + str(single) \n",
    "    print \"Percentage of Single cells in \"  + datasetName+  \"- \" + FieldListString +\" By \" + timePeriod +\": \" + str( percentsingle) + \"%\"\n",
    "\n",
    "def makeOutput(datasetName, fnName, datefields, dOrR):\n",
    "    df, df_column_names = loadFilesGetColumns(fnName, datefields )\n",
    "    print \"***********************\"\n",
    "    print \"***********************\"\n",
    "    print \"Columns in \"+ datasetName + \":\"\n",
    "    print \n",
    "    print df_column_names\n",
    "    print \n",
    "    return df\n",
    " \n",
    "def makeCrossTabInfoMonth(dateFieldList,  columnList, columnNames, dOrR, datasetName):\n",
    "    crossByMonth = getCrossTab(dateFieldList, columnList)\n",
    "    getSingleCellInfo( datasetName, dOrR, crossByMonth , \"Month\", columnNames)\n",
    "    return crossByMonth\n",
    "\n",
    "def makeCrossTabInfoQuarter( dateFieldList, columnList, columnNames, dOrR, datasetName):\n",
    "    crossByQtr = getCrossTab(dateFieldList, columnList)\n",
    "    getSingleCellInfo( datasetName, dOrR, crossByQtr , \"Quarter\", columnNames)\n",
    "    return crossByQtr\n",
    "'''"
   ]
  },
  {
   "cell_type": "code",
   "execution_count": 12,
   "metadata": {
    "collapsed": false
   },
   "outputs": [],
   "source": [
    "cell = nbf.new_code_cell(fxns )\n",
    "cells.append(cell)"
   ]
  },
  {
   "cell_type": "code",
   "execution_count": 13,
   "metadata": {
    "collapsed": false
   },
   "outputs": [],
   "source": [
    "def generateCells(crossTabTuple, datefieldListMonth, datefieldListQuarter):\n",
    "    for item in range(len(crossTabTuple)):\n",
    "        crossStuff = \"crossByMonth = makeCrossTabInfoMonth( \" + datefieldListMonth + \",\" +  crossTabTuple[item][0] + \",\" +crossTabTuple[item][1] + \", dOrR, datasetName)\" \n",
    "        cell = nbf.new_code_cell(crossStuff)\n",
    "        cells.append(cell)\n",
    "        cell = nbf.new_code_cell(\"crossByMonth\")\n",
    "        cells.append(cell)\n",
    "        crossStuff = \"crossByQuarter = makeCrossTabInfoQuarter( \" + datefieldListQuarter + \",\" +  crossTabTuple[item][0] + \",\" +crossTabTuple[item][1] + \", dOrR, datasetName)\" \n",
    "        cell = nbf.new_code_cell(crossStuff)\n",
    "        cells.append(cell)\n",
    "        cell = nbf.new_code_cell(\"crossByQuarter\")\n",
    "        cells.append(cell)\n",
    "\n"
   ]
  },
  {
   "cell_type": "code",
   "execution_count": 14,
   "metadata": {
    "collapsed": true
   },
   "outputs": [],
   "source": [
    "def generateCrossTabsReport(datasetName, fn, datefield, datefieldListMonth, datefieldListQuarter, dOrR, crossTabTuple):\n",
    "    stuff = '''\n",
    "datasetName = \"%s\"\n",
    "fnName = '%s'\n",
    "datefields = [%s]\n",
    "dOrR = \"%s\"\n",
    "df = makeOutput(datasetName, fnName, datefields, dOrR )\n",
    "''' % (datasetName, fn, datefield, dOrR )\n",
    "    cell = nbf.new_code_cell(stuff)\n",
    "    cells.append(cell)\n",
    "    generateCells(crossTabTuple, datefieldListMonth, datefieldListQuarter)    "
   ]
  },
  {
   "cell_type": "code",
   "execution_count": 15,
   "metadata": {
    "collapsed": false
   },
   "outputs": [],
   "source": [
    "##JH Admissions\n",
    "\n",
    "datasetName = \"JUV 0001: Juvenile Hall Admission\"\n",
    "fn = \"JUV_0001_Juvenile_Hall_Admissions.csv\"\n",
    "text = \"# \" + datasetName\n",
    "cell = nbf.new_text_cell('markdown', text)\n",
    "cells.append(cell)\n",
    "dOrR = \"Detention\"\n",
    "datefield = \"'Detention'\"\n",
    "datefieldListMonth = \"df['\" + dOrR + \"Date']\"\n",
    "datefieldListQuarter = \"df['\" + dOrR + \"Quarter']\"\n",
    "\n",
    "#Order of CrossTabss: Age, Ethnicity, Age and Gender, Age and Ethnicity, Ethnicity and Gender, Age Gender Ethnicity\n",
    "crossTabTupleJHAdmission = [\n",
    "                    ( \"df[\"+ \"'Age At \" + dOrR +\"']\", \"'Age'\") ,\n",
    "                    ( \"df['Ethnicity' ]\", \"'Ethnicity'\"),\n",
    "                    ( \"[df[\"+ \"'Age At \" + dOrR +\"'], df['Ethnicity']]\", \"'Age and Ethnicity'\" ),\n",
    "                     ( \"[df[\"+ \"'Age At \" + dOrR +\"'], df['Gender']]\", \"'Age and Gender'\" ),\n",
    "                    ( \"[df['Gender'], df['Ethnicity']]\",  \"'Gender and Ethnicity'\"),\n",
    "                    ( \"[df[\"+ \"'Age At \" + dOrR +\"'], df['Ethnicity'], df['Gender']]\", \"'Age and Ethnicity and Gender'\")\n",
    "                \n",
    "                ]\n",
    "generateCrossTabsReport(datasetName, fn, datefield, datefieldListMonth, datefieldListQuarter, dOrR, crossTabTupleJHAdmission)\n",
    "#cell = nbf.new_code_cell(stuff)\n",
    "#cells.append(cell)\n",
    "#generateCells(crossTabTupleJH, \"df['\" + dOrR + \"Date']\")           \n"
   ]
  },
  {
   "cell_type": "code",
   "execution_count": 17,
   "metadata": {
    "collapsed": false
   },
   "outputs": [],
   "source": [
    "#LCR Admissions\n",
    "\n",
    "datasetName = \"JUV 0005 Log Cabin Ranch Admissions\"\n",
    "fn = \"JUV_0005_Log_Cabin_Ranch_Admissions.csv\"\n",
    "text = \"# \" + datasetName\n",
    "cell = nbf.new_text_cell('markdown', text)\n",
    "cells.append(cell)\n",
    "dOrR = \"Log Cabin Ranch Entry\"\n",
    "datefield = \"'Log Cabin Ranch Entry'\"\n",
    "\n",
    "#Order of CrossTabss: Age, Ethnicity,  Age and Ethnicity\n",
    "crossTabTupleLCR = [\n",
    "                    ( \"df['Age At Log Cabin Ranch Entry Date']\", \"'Age'\") ,\n",
    "                    ( \"df['Ethnicity' ]\", \"'Ethnicity'\"),\n",
    "                    ( \"[df['Age At Log Cabin Ranch Entry Date'], df['Ethnicity']]\", \"'Age and Ethnicity'\" )\n",
    "                \n",
    "                ]\n",
    "\n",
    "generateCrossTabsReport(datasetName, fn, datefield, datefieldListMonth, datefieldListQuarter, dOrR, crossTabTupleLCR)\n"
   ]
  },
  {
   "cell_type": "code",
   "execution_count": 18,
   "metadata": {
    "collapsed": false
   },
   "outputs": [],
   "source": [
    "#009 Probation Referrals\n",
    "datasetName = \"JUV 0009 Probation Referrals.csv\"\n",
    "fn = \"JUV_0009_Probation_Referrals.csv\"\n",
    "text = \"# \" + datasetName\n",
    "cell = nbf.new_text_cell('markdown', text)\n",
    "cells.append(cell)\n",
    "dOrR = \"Referral\"\n",
    "datefield = \"'Referral'\"\n",
    "\n",
    "crossTabTupleReferrals = [\n",
    "                    ( \"df[\"+ \"'Age At \" + dOrR +\"']\", \"'Age'\") ,\n",
    "                    ( \"df['Ethnicity' ]\", \"'Ethnicity'\"),\n",
    "                    ( \"df['Referral Type']\", \"'Referral Type'\"),\n",
    "                    ( \"df['Offense Degree Level' ]\", \"'Offense Degree Level'\"),\n",
    "    \n",
    "                    ( \"[df['Age at Referral'], df['Ethnicity']]\", \"'Age and Ethnicity'\" ),\n",
    "                    ( \"[df['Age at Referral'], df['Gender']]\", \"'Age and Gender'\" ),\n",
    "                    ( \"[df['Age at Referral'], df['Referral Type']]\", \"'Age and Offense Degree Level'\" ),\n",
    "                    ( \"[df['Age at Referral'], df['Offense Degree Level']]\", \"'Age and Offense Degree Level'\" ),\n",
    "    \n",
    "                    ( \"[df['Gender'], df['Ethnicity']]\",  \"'Gender and Ethnicity'\"),\n",
    "                    ( \"[df['Gender'], df['Referral Type']]\",  \"'Gender and Referral Type'\"),\n",
    "                    ( \"[df['Gender'], df['Offense Degree Level']]\",  \"'Gender and Offense Degree Level'\"),\n",
    "    \n",
    "                    ( \"[ df['Ethnicity'], df['Referral Type'] ]\",  \"' Ethnicity and Referral Type'\"),\n",
    "                    ( \"[ df['Ethnicity'], df['Offense Degree Level'] ]\",  \"' Ethnicity and Offense Degree Level'\"),\n",
    "                    \n",
    "                    ( \"[df['Offense Degree Level'], df['Referral Type'] ]\",  \"'Referral Type and Offense Degree Level'\"),\n",
    "    \n",
    "                    ( \"[df['Gender'], df['Offense Degree Level'],  df['Referral Type']]\",  \"'Gender and Offense Degree Level and Refferal Type'\"),\n",
    "                     \n",
    "                    ( \"[df['Ethnicity'], df['Offense Degree Level'],  df['Referral Type']]\",  \"'Ethnicity and Offense Degree Level and Refferal Type'\"),\n",
    "                   \n",
    "                            \n",
    "                    ( \"[df['Age at Referral'], df['Ethnicity'], df['Gender']]\", \"'Age and Ethnicity and Gender'\")\n",
    "                \n",
    "                ]\n",
    "\n",
    "generateCrossTabsReport(datasetName, fn, datefield, datefieldListMonth, datefieldListQuarter, dOrR, crossTabTupleReferrals)\n",
    "\n"
   ]
  },
  {
   "cell_type": "code",
   "execution_count": 19,
   "metadata": {
    "collapsed": true
   },
   "outputs": [],
   "source": [
    "nb['worksheets'].append(nbf.new_worksheet(cells=cells))\n",
    "fname = 'testNew.ipynb'\n",
    "\n",
    "with open(fname, 'w') as f:\n",
    "    nbf.write(nb, f, 'ipynb')\n"
   ]
  },
  {
   "cell_type": "code",
   "execution_count": null,
   "metadata": {
    "collapsed": true
   },
   "outputs": [],
   "source": []
  },
  {
   "cell_type": "code",
   "execution_count": null,
   "metadata": {
    "collapsed": true
   },
   "outputs": [],
   "source": []
  },
  {
   "cell_type": "code",
   "execution_count": null,
   "metadata": {
    "collapsed": true
   },
   "outputs": [],
   "source": []
  },
  {
   "cell_type": "code",
   "execution_count": null,
   "metadata": {
    "collapsed": true
   },
   "outputs": [],
   "source": []
  },
  {
   "cell_type": "code",
   "execution_count": null,
   "metadata": {
    "collapsed": true
   },
   "outputs": [],
   "source": []
  }
 ],
 "metadata": {
  "kernelspec": {
   "display_name": "Python 2",
   "language": "python",
   "name": "python2"
  },
  "language_info": {
   "codemirror_mode": {
    "name": "ipython",
    "version": 2
   },
   "file_extension": ".py",
   "mimetype": "text/x-python",
   "name": "python",
   "nbconvert_exporter": "python",
   "pygments_lexer": "ipython2",
   "version": "2.7.11"
  }
 },
 "nbformat": 4,
 "nbformat_minor": 0
}
