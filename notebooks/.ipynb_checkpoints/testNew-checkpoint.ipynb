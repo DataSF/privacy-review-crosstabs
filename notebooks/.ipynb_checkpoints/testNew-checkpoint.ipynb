{
 "cells": [
  {
   "cell_type": "code",
   "execution_count": null,
   "metadata": {
    "collapsed": false
   },
   "outputs": [],
   "source": [
    "\n",
    "\n",
    "# functions used throughout analysis\n",
    "\n",
    "import numpy\n",
    "import pandas as pd\n",
    "from collections import Counter\n",
    "from __future__ import division\n",
    "pd.set_option('display.max_colwidth', 1)\n",
    "def loadFiles(src_dir, fnName):\n",
    "    fn = src_dir + fnName\n",
    "    df = pd.read_csv(fn, delimiter=',')\n",
    "    return df\n",
    "\n",
    "def getDfColumns(df):\n",
    "    return list(df.columns.values)\n",
    "\n",
    "def columnString(dfList):\n",
    "    return ','.join(dfList)\n",
    "\n",
    "def findSingleCells (df):\n",
    "    crossMatrix = df.as_matrix()\n",
    "    single = len([ row[i] for row in crossMatrix for i in range(len(row)) if row[i] == 1 ])\n",
    "    totalcells  = len([ 1 for row in crossMatrix for i in range(len(row)) ])\n",
    "    kplus = totalcells - single\n",
    "    percentsingle = (single/totalcells )* 100\n",
    "    return single, kplus, totalcells, percentsingle\n",
    "\n",
    "def getCrossTab(grpField, fieldList, margin=False):\n",
    "    crossTab= pd.crosstab(grpField, fieldList,  margins=margin)\n",
    "    return crossTab\n",
    "\n",
    "def getSingleCellInfo( datasetName, crossTab, grpfieldString,  fieldListString):\n",
    "    single, kplus, totalcells, percentsingle = findSingleCells(crossTab)\n",
    "    print \"***********************\"\n",
    "    print \"***********************\"\n",
    "    print \n",
    "    print datasetName +  \": \" + grpfieldString  + \" By \" + fieldListString\n",
    "    print\n",
    "    print \"***********************\"\n",
    "    print \"Total of number of cells in \" + datasetName + \"- \" + fieldListString + \" By \" + grpfieldString +\": \" + str(totalcells)\n",
    "    print \n",
    "    print \"Number of Single Cells in \" + datasetName + \"- \" + fieldListString  + \" By \" + grpfieldString +\": \" + str(single) \n",
    "    print \n",
    "    print \"Percentage of Single cells in \"  + datasetName+  \"- \" + fieldListString +\" By \" + grpfieldString +\": \" + str( percentsingle) + \"%\"\n",
    "\n",
    "def makeOutput(datasetName, src_dir, fnName):\n",
    "    df = loadFiles(src_dir, fnName) \n",
    "    df_column_names =  getDfColumns(df)\n",
    "    print \"***********************\"\n",
    "    print \"***********************\"\n",
    "    print \"Columns in \"+ datasetName + \":\"\n",
    "    print \n",
    "    print df_column_names\n",
    "    print \n",
    "    return df\n",
    "\n",
    "def makeCrossTabInfo( grpField, grpfieldString, fieldList, fieldListString,  datasetName):\n",
    "    crossTab = getCrossTab( grpField, fieldList)\n",
    "    single_cell = getSingleCellInfo( datasetName, crossTab, grpfieldString, fieldListString)\n",
    "    return crossTab\n",
    "\n"
   ]
  },
  {
   "cell_type": "code",
   "execution_count": null,
   "metadata": {
    "collapsed": false
   },
   "outputs": [],
   "source": [
    "\n",
    "datasetName = \"Juvenile_Probation_Petitions_Sustained\"\n",
    "src_dir = '/home/ubuntu/workspace/source_data/'\n",
    "fnName = 'Juvenile_Probation_Petitions_Sustained.csv'\n",
    "df = makeOutput(datasetName, src_dir , fnName)\n"
   ]
  },
  {
   "cell_type": "code",
   "execution_count": null,
   "metadata": {
    "collapsed": false
   },
   "outputs": [],
   "source": [
    "grpField = df['Year Petition Sustained']"
   ]
  },
  {
   "cell_type": "code",
   "execution_count": null,
   "metadata": {
    "collapsed": false
   },
   "outputs": [],
   "source": [
    "crossBy = makeCrossTabInfo( grpField, grpFieldString, fieldList, fieldListString,  datasetName)"
   ]
  },
  {
   "cell_type": "code",
   "execution_count": null,
   "metadata": {
    "collapsed": false
   },
   "outputs": [],
   "source": [
    "crossStuff"
   ]
  },
  {
   "cell_type": "code",
   "execution_count": null,
   "metadata": {
    "collapsed": false
   },
   "outputs": [],
   "source": [
    "crossBy = makeCrossTabInfo( grpField, grpFieldString, fieldList, fieldListString,  datasetName)"
   ]
  },
  {
   "cell_type": "code",
   "execution_count": null,
   "metadata": {
    "collapsed": false
   },
   "outputs": [],
   "source": [
    "crossStuff"
   ]
  }
 ],
 "metadata": {
  "kernelspec": {
   "display_name": "Python 2",
   "language": "python",
   "name": "python2"
  }
 },
 "nbformat": 4,
 "nbformat_minor": 0
}
