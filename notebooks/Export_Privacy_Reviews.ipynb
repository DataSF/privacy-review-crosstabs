{
 "cells": [
  {
   "cell_type": "code",
   "execution_count": 12,
   "metadata": {
    "collapsed": false
   },
   "outputs": [],
   "source": [
    "import sys\n",
    "from IPython.core.display import HTML\n",
    "sys.path.insert(0, '/home/ubuntu/workspace/pydev/')\n",
    "from Privacy_Review import *\n",
    "jcs = JsonConfigStuff()"
   ]
  },
  {
   "cell_type": "markdown",
   "metadata": {},
   "source": [
    "## Enter in the config directory where your json files live:"
   ]
  },
  {
   "cell_type": "code",
   "execution_count": 13,
   "metadata": {
    "collapsed": false
   },
   "outputs": [],
   "source": [
    "config_dir = '/home/ubuntu/workspace/configFiles/'\n"
   ]
  },
  {
   "cell_type": "markdown",
   "metadata": {},
   "source": [
    "## Enter the file that lists your Json Config Files"
   ]
  },
  {
   "cell_type": "code",
   "execution_count": 14,
   "metadata": {
    "collapsed": true
   },
   "outputs": [],
   "source": [
    "config_fn = 'main_config.json'"
   ]
  },
  {
   "cell_type": "code",
   "execution_count": 15,
   "metadata": {
    "collapsed": false
   },
   "outputs": [],
   "source": [
    "\n",
    "report_html = jcs.makeReports(config_dir, config_fn)"
   ]
  },
  {
   "cell_type": "code",
   "execution_count": 16,
   "metadata": {
    "collapsed": false
   },
   "outputs": [
    {
     "data": {
      "text/html": [
       "<h2>Here are the resulting crosstab report notebooks: <h2><ul><li><a href=http://data_privacy_review_box-c9-j9heiser.c9users.io/notebooks/JUV/Juvenile_Hall_CrossTabs.ipynb>Juvenile_Hall_CrossTabs.ipynb</a></li><li><a href=http://data_privacy_review_box-c9-j9heiser.c9users.io/notebooks/JUV/Juvenile_Petitions_Refferals_CrossTabs.ipynb>Juvenile_Petitions_Refferals_CrossTabs.ipynb</a></li><li><a href=http://data_privacy_review_box-c9-j9heiser.c9users.io/notebooks/LIB/Library_Patron_Data_CrossTabs>Library_Patron_Data_CrossTabs</a></li> </ul>"
      ],
      "text/plain": [
       "<IPython.core.display.HTML object>"
      ]
     },
     "execution_count": 16,
     "metadata": {},
     "output_type": "execute_result"
    }
   ],
   "source": [
    "report_html"
   ]
  },
  {
   "cell_type": "code",
   "execution_count": null,
   "metadata": {
    "collapsed": true
   },
   "outputs": [],
   "source": []
  },
  {
   "cell_type": "code",
   "execution_count": null,
   "metadata": {
    "collapsed": true
   },
   "outputs": [],
   "source": []
  },
  {
   "cell_type": "code",
   "execution_count": null,
   "metadata": {
    "collapsed": true
   },
   "outputs": [],
   "source": []
  }
 ],
 "metadata": {
  "kernelspec": {
   "display_name": "Python 2",
   "language": "python",
   "name": "python2"
  },
  "language_info": {
   "codemirror_mode": {
    "name": "ipython",
    "version": 2
   },
   "file_extension": ".py",
   "mimetype": "text/x-python",
   "name": "python",
   "nbconvert_exporter": "python",
   "pygments_lexer": "ipython2",
   "version": "2.7.12"
  }
 },
 "nbformat": 4,
 "nbformat_minor": 0
}
