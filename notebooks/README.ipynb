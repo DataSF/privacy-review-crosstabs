{
 "cells": [
  {
   "cell_type": "markdown",
   "metadata": {},
   "source": [
    "# Privacy Crosstab Generator Tool\n",
    "\n",
    "## Useful Links\n",
    "* [Home dir for notebooks](http://data_privacy_review_box-c9-j9heiser.c9users.io/tree)\n",
    "* [Generate new notebooks of crosstab reports](http://data_privacy_review_box-c9-j9heiser.c9users.io/notebooks/Export_Privacy_Reviews.ipynb)\n",
    "\n",
    "\n",
    "## Generating Reports\n",
    "1. start up the ipython notebook server by running this from the command line: `./notebooks/start_notebook.sh `    \n",
    "2. upload the json config files of crosstab notebooks that you want to run\n",
    "3. Go to the [Generate new notebooks of crosstab reports](http://data_privacy_review_box-c9-j9heiser.c9users.io/notebooks/Export_Privacy_Reviews.ipynb) page\n",
    "4. Your crosstab notebooks will be created. Click on the links to view. \n",
    "5. Once you've generated your crosstab notebooks, you will need to click through them to view the results.\n",
    "6. Save the ipython notebook output by clicking on file save icon in the upper left. \n",
    "\n",
    "## Purpose of this Tool\n",
    "* The purpose of this is to generate crosstabs to evaluate if current transformations are aquadely protecting privacy as outlined in the Datasf privacy tool kit. \n",
    "* Mostly, this tool helps identify groups of individuals in a given dataset that could be vulnerable to a linkage attack. \n",
    "\n",
    "\n",
    "## Important data security concepts to be aware of when using this tool\n",
    "\n",
    "#### General Terms\n",
    "* QID-Quasi-identifier-is a set of attributes that could potentially identiy a record owner\n",
    "* QID~ is an anonomous version of the original QID otained by applying anonmization operations to the attributes in the QID in the original table, D. \n",
    "\n",
    "#### Types of Linkage Attacks\n",
    "* Record linkage attack- some value on the QID identifes a small number of records in the realeased table T, called a group. If the victim matches the value of ther QID, \n",
    "* the victim is vulnerable to being linked to the small number of records in the group. The attacher only faces a small number of possibilities for the victims record, and with the help of additional knowledge, there is a chance that the attacker could uniquely indentify the victim's record from the group.\n",
    "* k-Anonymity- A defense against a record linkage attack- if one record in the table has some value QID, at least k-1 other records also have the value qid. The minimum group size on a QID is at least the value of k. \n",
    "* A table satifying this requirement is called k-anonymous. \n",
    "* k-Anonymous table - in this table, each record is indistinguishable from at least k-1 other records with respect to the QID. If this condition is satified, the probablily of the linking a victim to a specific record in the table throuhg QID is at most 1/k. \n",
    "\n",
    " \n",
    "\n"
   ]
  },
  {
   "cell_type": "code",
   "execution_count": null,
   "metadata": {
    "collapsed": true
   },
   "outputs": [],
   "source": []
  }
 ],
 "metadata": {
  "kernelspec": {
   "display_name": "Python 2",
   "language": "python",
   "name": "python2"
  },
  "language_info": {
   "codemirror_mode": {
    "name": "ipython",
    "version": 2
   },
   "file_extension": ".py",
   "mimetype": "text/x-python",
   "name": "python",
   "nbconvert_exporter": "python",
   "pygments_lexer": "ipython2",
   "version": "2.7.12"
  }
 },
 "nbformat": 4,
 "nbformat_minor": 0
}
