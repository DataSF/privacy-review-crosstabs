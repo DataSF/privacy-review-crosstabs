{
 "cells": [
  {
   "cell_type": "markdown",
   "metadata": {},
   "source": [
    "# Privacy Crosstab Generator Tool\n",
    "---\n",
    "## Useful Links\n",
    "* [Home dir for notebooks](http://data_privacy_review_box-c9-j9heiser.c9users.io/tree)\n",
    "* [Generate new notebooks of crosstab reports](http://data_privacy_review_box-c9-j9heiser.c9users.io/notebooks/Export_Privacy_Reviews.ipynb)\n",
    "---\n",
    "## Purpose of this Tool\n",
    "* The purpose of this is to generate crosstabs to evaluate if current transformations are aquadely protecting privacy as outlined in the Datasf privacy tool kit. \n",
    "* Using crosstabs is a way to identify groups of individuals that maybe susceptible to a data privacy attack. \n",
    "---\n",
    "## Generating Reports\n",
    "1. Start up the ipython notebook server by running this from the command line: \n",
    "```\n",
    "./notebooks/start_notebook.sh\n",
    "```\n",
    "2. Upload the json config files of crosstab notebooks that you want to run \n",
    "3. Go to the [Generate new notebooks of crosstab reports](http://data_privacy_review_box-c9-j9heiser.c9users.io/notebooks/Export_Privacy_Reviews.ipynb) page\n",
    "4. Specify the directory where your main config file lives (aka-main_config.json)\n",
    "5. Your crosstab notebooks will be created. Click on the links to view. \n",
    "6. Once you've generated your crosstab notebooks, you will need to click through them to view the results.\n",
    "7. Save the ipython notebook output by clicking on file save icon in the upper left. \n",
    "\n",
    "## Creating Config Files To Generate Reports\n",
    "* You can generate numerious crosstabs at once. You will use json config files to this.\n",
    "\n",
    "## Types of Config Files\n",
    "### **main_config.json**:  contains a list of the config files that you want to use to generate crosstab notebooks.  \n",
    "\n",
    "  * **main_config.json object keys**: \n",
    "    * **configFileN**: filepath -> the file path to your config file\n",
    "    \n",
    "    * The key, value pairs look something like this:\n",
    "  ```\n",
    "  \"configFile1\": \"/full/path/to/filename_yr_json_configFile.json\"\n",
    "  ```\n",
    "  * For each config file you that want to add, use the field name, \"configFile1\", \"configFile2\", etc\n",
    "  \n",
    "### **filename_yr_json_configFile.json**: contains your configs to generate crosstab notebooks\n",
    "* Important to note, this file contains a list of items. Each item is defined by they key, `crosstab_notebook`\n",
    "* Each `crosstab_notebook` list object will generate an ipython notebook. \n",
    "* Inside each `crosstab_notebook` list object, you will need to define several key, value pairs to generate a notebook. \n",
    "\n",
    "#### crosstab_notebook list object keys:\n",
    "\n",
    "* **source_data_directory**: the directory path to the source data; aka the directory where the source data for the crosstabs is\n",
    "* **output_notebook_base_directory**: full path of the base directory to where you want to output the generated notebook to\n",
    "* **output_notebook_directory**: the sub folder of the output notebook base directory where you want to output the generated notebook to\n",
    "* **output_notebook_filename**: the filename for the generated notebook\n",
    "* **notebook_base_url**: the base url of the ipython notebook server where you want to display the generated crosstab notebook\n",
    "* **crosstab_reports**: a dictionary that contains th\n",
    "  *  **field_combo**: the fields you want to run a crosstab report on\n",
    "  *  **k_annon_size**: minumum value a crosstab cell can contain.  \n",
    "   \n",
    "---\n",
    "\n",
    "## Important data security concepts to be aware of when using this tool\n",
    "\n",
    "#### General Terms\n",
    "* QID-Quasi-identifier-is a set of attributes that could potentially identiy a record owner\n",
    "* QID~ is an anonomous version of the original QID otained by applying anonmization operations to the attributes in the QID in the original table, D. \n",
    "\n",
    "#### Types of Linkage Attacks\n",
    "* Record linkage attack- some value on the QID identifes a small number of records in the realeased table T, called a group. If the victim matches the value of ther QID, \n",
    "* the victim is vulnerable to being linked to the small number of records in the group. The attacher only faces a small number of possibilities for the victims record, and with the help of additional knowledge, there is a chance that the attacker could uniquely indentify the victim's record from the group.\n",
    "* k-Anonymity- A defense against a record linkage attack- if one record in the table has some value QID, at least k-1 other records also have the value qid. The minimum group size on a QID is at least the value of k. \n",
    "* A table satifying this requirement is called k-anonymous. \n",
    "* k-Anonymous table - in this table, each record is indistinguishable from at least k-1 other records with respect to the QID. If this condition is satified, the probablily of the linking a victim to a specific record in the table throuhg QID is at most 1/k. \n",
    "\n",
    " \n",
    "\n"
   ]
  },
  {
   "cell_type": "code",
   "execution_count": null,
   "metadata": {
    "collapsed": true
   },
   "outputs": [],
   "source": []
  },
  {
   "cell_type": "code",
   "execution_count": null,
   "metadata": {
    "collapsed": true
   },
   "outputs": [],
   "source": []
  }
 ],
 "metadata": {
  "kernelspec": {
   "display_name": "Python 2",
   "language": "python",
   "name": "python2"
  },
  "language_info": {
   "codemirror_mode": {
    "name": "ipython",
    "version": 2
   },
   "file_extension": ".py",
   "mimetype": "text/x-python",
   "name": "python",
   "nbconvert_exporter": "python",
   "pygments_lexer": "ipython2",
   "version": "2.7.12"
  }
 },
 "nbformat": 4,
 "nbformat_minor": 0
}
